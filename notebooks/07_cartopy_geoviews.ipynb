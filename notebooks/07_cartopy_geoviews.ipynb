{
 "cells": [
  {
   "cell_type": "markdown",
   "metadata": {},
   "source": [
    "# Cartopy and GeoViews\n",
    "\n",
    "One of Satpy's goals is to make the data it generates useable by other open source python tools. Two of the great plotting options for python developers are Cartopy and GeoViews. In this lesson we'll step through some simple examples to plot data using these tools.\n",
    "\n",
    "First, let's create our CONUS sector ABI `Scene` and load a band we'd like to look at."
   ]
  },
  {
   "cell_type": "code",
   "execution_count": null,
   "metadata": {},
   "outputs": [],
   "source": [
    "%run ../init_notebook.py\n",
    "from glob import glob\n",
    "from satpy import Scene\n",
    "filenames = glob('../data/abi_l1b/20180511_texas_fire_abi_l1b_conus/*.nc')\n",
    "scn = Scene(reader='abi_l1b', filenames=filenames)"
   ]
  },
  {
   "cell_type": "code",
   "execution_count": null,
   "metadata": {},
   "outputs": [],
   "source": [
    "my_channel = 'EDITME'\n",
    "scn.load([my_channel])"
   ]
  },
  {
   "cell_type": "markdown",
   "metadata": {},
   "source": [
    "Similar to earlier lessons we use the notebook magic `%matplotlib` command to give us interactive matplotlib plots in our notebook. Overall we will be using features provided by the matplotlib library for plotting, cartopy for coastlines and geographic coordinate handling, and xarray for some utility in plotting our data. The main feature Satpy, or rather Pyresample, brings to the table is the `to_cartopy_crs` method to convert our `AreaDefinition` to a Coordinate Reference System (CRS) object that cartopy can understand.\n",
    "\n",
    "Once we have that `crs` object we can pass it to our axes creation to tell it the CRS for our plot. We also pass this `crs` to the `imshow` method to tell it what CRS our data is in. This is similar to what we encountered in the resampling lesson. We have a projection that we want (our axes) and the projection our data is in. In this case, they are the same so no resampling has to happen.\n",
    "\n",
    "We'll also use cartopy's `coastlines` and `gridlines` to add some features to our map."
   ]
  },
  {
   "cell_type": "code",
   "execution_count": null,
   "metadata": {},
   "outputs": [],
   "source": [
    "%matplotlib notebook\n",
    "import matplotlib.pyplot as plt\n",
    "\n",
    "crs = scn[my_channel].attrs['area'].to_cartopy_crs()\n",
    "plt.figure()\n",
    "ax = plt.axes(projection=crs)\n",
    "\n",
    "my_data = scn[my_channel]\n",
    "my_data.plot.imshow(transform=crs)\n",
    "ax.coastlines()\n",
    "ax.gridlines()"
   ]
  },
  {
   "cell_type": "markdown",
   "metadata": {},
   "source": [
    "If we wanted to plot our data on a different projection that what it currently is in, we can have cartopy do some resampling for us. Normally satellite data involves rather large data arrays so it may be better in the long run to use Satpy's resampling methods which may perform better and allow for caching of resampling computations.\n",
    "\n",
    "Let's plot the same data as before, but this time put it on a Lat/Lon grid (PlateCarree). We'll let cartopy do the resampling for us."
   ]
  },
  {
   "cell_type": "code",
   "execution_count": null,
   "metadata": {},
   "outputs": [],
   "source": [
    "import cartopy.crs as ccrs\n",
    "crs = scn[my_channel].attrs['area'].to_cartopy_crs()\n",
    "plt.figure()\n",
    "ax = plt.axes(projection=ccrs.PlateCarree())\n",
    "\n",
    "my_data = scn[my_channel]\n",
    "my_data.plot.imshow(transform=crs)\n",
    "ax.coastlines()\n",
    "ax.gridlines()"
   ]
  },
  {
   "cell_type": "markdown",
   "metadata": {},
   "source": [
    "This covers the basics of what can be done with cartopy plotting of Satpy data. Cartopy provides a lot more functionality than shown here and there are many cookbooks and recipes online to make fancier plots.\n",
    "\n",
    "### Further Research\n",
    "\n",
    "* [Xarray plotting][1]\n",
    "* [Cartopy tutorial by Phil Elson][2]\n",
    "* [Cartopy documentation][3]\n",
    "\n",
    "  [1]: http://xarray.pydata.org/en/stable/plotting.html\n",
    "  [2]: https://rabernat.github.io/research_computing_2018/maps-with-cartopy.html\n",
    "  [3]: https://scitools.org.uk/cartopy/docs/latest/\n",
    "  \n",
    "\n",
    "# GeoViews\n",
    "\n",
    "Another popular tool for plotting is GeoViews by the PyViz team. Satpy provides some simple wrapper methods to easily create GeoViews plots from Satpy's `Scene`. Let's start with some basic plotting of our `scn` object from earlier. We first have to import geoviews and tell it to load the bokeh extension which we'll use to draw the data."
   ]
  },
  {
   "cell_type": "code",
   "execution_count": null,
   "metadata": {},
   "outputs": [],
   "source": [
    "import holoviews as hv\n",
    "import geoviews as gv\n",
    "import geoviews.feature as gf\n",
    "from geoviews import opts\n",
    "gv.extension(\"bokeh\")\n",
    "opts.defaults(\n",
    "    opts.Image(width=600, height=400, colorbar=True),\n",
    "    opts.Feature(apply_ranges=False),\n",
    "    opts.QuadMesh(width=600, height=400, colorbar=True),\n",
    ")"
   ]
  },
  {
   "cell_type": "markdown",
   "metadata": {},
   "source": [
    "We then need to define our plot region with some notebook magic commands.\n",
    "\n",
    "To get our data ready for GeoViews we have to use the `Scene` object's `to_geoviews` method and tell it what channel we'd like. We can then use the multiply operator to add features to our plot like coastlines and borders."
   ]
  },
  {
   "cell_type": "code",
   "execution_count": null,
   "metadata": {},
   "outputs": [],
   "source": [
    "gv_data = scn.to_geoviews(vdims=[my_channel])\n",
    "gv_data.opts(cmap='RdBu_r')\n",
    "gv_data * gf.coastline * gf.borders"
   ]
  },
  {
   "cell_type": "markdown",
   "metadata": {},
   "source": [
    "By default, GeoViews guessed what projection might be best to view our data in. We can also change projection just like we did with cartopy using cartopy CRS objects. Let's view our data in its original projection."
   ]
  },
  {
   "cell_type": "code",
   "execution_count": null,
   "metadata": {},
   "outputs": [],
   "source": [
    "crs = scn[my_channel].attrs['area'].to_cartopy_crs()\n",
    "gv_data = scn.to_geoviews(vdims=[my_channel])\n",
    "gv_data.opts(cmap='RdBu_r', projection=crs)\n",
    "gv_data * gf.coastline * gf.borders"
   ]
  },
  {
   "cell_type": "markdown",
   "metadata": {},
   "source": [
    "Or let's try a Lambert Conformal Conic projection:"
   ]
  },
  {
   "cell_type": "code",
   "execution_count": null,
   "metadata": {},
   "outputs": [],
   "source": [
    "import cartopy.crs as ccrs\n",
    "gv_data = scn.to_geoviews(vdims=[my_channel])\n",
    "gv_data.opts(cmap='RdBu_r', projection=ccrs.LambertConformal())\n",
    "gv_data * gf.coastline * gf.borders"
   ]
  },
  {
   "cell_type": "markdown",
   "metadata": {},
   "source": [
    "## Time Series\n",
    "\n",
    "Lastly, we can take advantage of GeoViews ability to visualize multiple \"frames\" of data. We can use this in combination with Satpy's `MultiScene` to easily step through time steps. Let collect files at every 10 minutes for an hour."
   ]
  },
  {
   "cell_type": "code",
   "execution_count": null,
   "metadata": {},
   "outputs": [],
   "source": [
    "from glob import glob\n",
    "filenames = glob('../data/abi_l1b/20180511_texas_fire_abi_l1b_meso/*s201813121[012345]0*.nc')\n",
    "len(filenames)"
   ]
  },
  {
   "cell_type": "code",
   "execution_count": null,
   "metadata": {},
   "outputs": [],
   "source": [
    "from satpy import MultiScene\n",
    "mscn = MultiScene.from_files(filenames, reader='abi_l1b')\n",
    "mscn.load(['C07'])"
   ]
  },
  {
   "cell_type": "markdown",
   "metadata": {},
   "source": [
    "We've created our MultiScene of multiple frames and loaded the product we'd like to visualize. Our first step to to getting these \"frames\" in to GeoViews is to use the `MultiScene.blend` method again, but instead of stack images on top of each other like we did in the previous lesson we will build a time series DataArray. This is like the normal 2D dimensional data arrays we've been dealing with, but with an additional `time` dimension."
   ]
  },
  {
   "cell_type": "code",
   "execution_count": null,
   "metadata": {},
   "outputs": [],
   "source": [
    "from satpy.multiscene import timeseries\n",
    "ts_scn = mscn.blend(timeseries)\n",
    "ts_scn['C07']"
   ]
  },
  {
   "cell_type": "code",
   "execution_count": null,
   "metadata": {},
   "outputs": [],
   "source": [
    "ts_gv = ts_scn.to_geoviews(vdims=['C07'], dynamic=True)\n",
    "ts_gv.opts(cmap='viridis', projection=ccrs.Geostationary(central_longitude=-75.0))\n",
    "ts_gv * gf.coastline * gf.borders"
   ]
  },
  {
   "cell_type": "markdown",
   "metadata": {},
   "source": [
    "Thanks to GeoViews we've created an interactive tool for analyzing a series of satellite images in about 10 lines of code."
   ]
  },
  {
   "cell_type": "code",
   "execution_count": null,
   "metadata": {},
   "outputs": [],
   "source": []
  }
 ],
 "metadata": {
  "kernelspec": {
   "display_name": "Python 3",
   "language": "python",
   "name": "python3"
  },
  "language_info": {
   "codemirror_mode": {
    "name": "ipython",
    "version": 3
   },
   "file_extension": ".py",
   "mimetype": "text/x-python",
   "name": "python",
   "nbconvert_exporter": "python",
   "pygments_lexer": "ipython3",
   "version": "3.6.7"
  }
 },
 "nbformat": 4,
 "nbformat_minor": 2
}
