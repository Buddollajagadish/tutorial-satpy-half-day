{
 "cells": [
  {
   "cell_type": "markdown",
   "metadata": {},
   "source": [
    "# Writing data to disk\n",
    "\n",
    "Once we've loaded data we may want to save it to some on-disk format. Satpy provides multiple formats that it can save our data to using \"writer\" objects. Let's use Satpy's utility functions to learn what readers are available to us:"
   ]
  },
  {
   "cell_type": "code",
   "execution_count": null,
   "metadata": {},
   "outputs": [],
   "source": [
    "%run ../init_notebook.py\n",
    "from satpy import available_writers\n",
    "sorted(available_writers())"
   ]
  },
  {
   "cell_type": "markdown",
   "metadata": {},
   "source": [
    "In the above output you should see 3-5 writers depending on how your python environment is set up. In this tutorial we'll be using the `geotiff`, `simple_image`, and `cf` writers. If we are missing any of the dependencies for some of Satpy's writers they won't be listed here. We can check what functionality we are missing by using `check_satpy` like we did in the [Introduction](./01_introduction.ipynb).\n",
    "\n",
    "## Images - GeoTIFF\n",
    "\n",
    "We'll start out learning how to save geotiffs, Satpy's default writer, using the same data we did in the previous lesson. Let's create a `Scene` object and pick one of the 16 ABI channels (ex. `C07`)."
   ]
  },
  {
   "cell_type": "code",
   "execution_count": null,
   "metadata": {},
   "outputs": [],
   "source": [
    "from satpy import Scene\n",
    "from glob import glob\n",
    "\n",
    "my_channel = 'EDITME'\n",
    "filenames = glob('../data/abi_l1b/20180511_texas_fire_abi_l1b_conus/*.nc')\n",
    "scn = Scene(reader='abi_l1b', filenames=filenames)\n",
    "scn.load([my_channel])"
   ]
  },
  {
   "cell_type": "markdown",
   "metadata": {},
   "source": [
    "One of the simplest ways to save all loaded data to disk is to use the `save_datasets` method of the `Scene`."
   ]
  },
  {
   "cell_type": "code",
   "execution_count": null,
   "metadata": {},
   "outputs": [],
   "source": [
    "scn.save_datasets()"
   ]
  },
  {
   "cell_type": "markdown",
   "metadata": {},
   "source": [
    "By default this method will save files to the current working directory (`.`).\n",
    "\n",
    "Using notebook's `!` functionality we can run command line tools and investigate the file using the GDAL project's [gdalinfo](https://gdal.org/programs/gdalinfo.html):"
   ]
  },
  {
   "cell_type": "code",
   "execution_count": null,
   "metadata": {},
   "outputs": [],
   "source": [
    "!pwd\n",
    "!ls"
   ]
  },
  {
   "cell_type": "code",
   "execution_count": null,
   "metadata": {},
   "outputs": [],
   "source": [
    "!gdalinfo C07_20180511_213220.tif"
   ]
  },
  {
   "cell_type": "markdown",
   "metadata": {},
   "source": [
    "Satpy has created an LA, or Luminance + Alpha, striped geotiff image compressed with the \"DEFLATE\" compression algorithm. From the `gdalinfo` output we can see information like the map projection parameters formatted in Well-known Text (WKT), image size, and image data type. GeoTIFF is not a standard web image format so we can't display them out-of-the-box in our browser. They are typically used by GIS tools like ArcGIS, QGIS, or with Web Mapping Services (WMS). Most image viewers can also display these images so navigating to the image file and opening it (double click) should open the image with ImageMagick on linux, Preview on OSX, and Windows Photo Viewer on Windows.\n",
    "\n",
    "Under the hood Satpy is using the `rasterio` and `GDAL` libraries to create the GeoTIFF. GDAL has [a lot of options](https://gdal.org/drivers/raster/gtiff.html#creation-options) for GeoTIFF creation and Satpy allows us to specify these when saving. Let's create a tiled GeoTIFF image which can be useful when hosting images on cloud services (see [COG](https://www.cogeo.org/) for details) and typically produces smaller files. We'll also use a dask utility called `ProgressBar` to provide feedback on the calculation."
   ]
  },
  {
   "cell_type": "code",
   "execution_count": null,
   "metadata": {},
   "outputs": [],
   "source": [
    "from dask.diagnostics import ProgressBar\n",
    "\n",
    "with ProgressBar():\n",
    "    scn.save_datasets(tiled=True, copy_src_overviews=True)"
   ]
  },
  {
   "cell_type": "markdown",
   "metadata": {},
   "source": [
    "Satpy overwrote the file we generated before. Let's use `gdalinfo` again to investigate the file."
   ]
  },
  {
   "cell_type": "code",
   "execution_count": null,
   "metadata": {},
   "outputs": [],
   "source": [
    "!ls"
   ]
  },
  {
   "cell_type": "code",
   "execution_count": null,
   "metadata": {},
   "outputs": [],
   "source": [
    "!gdalinfo C07_20180511_213220.tif"
   ]
  },
  {
   "cell_type": "markdown",
   "metadata": {},
   "source": [
    "The main difference is the `Block=256x256` which is telling us that our data was stored in 256x256 chunks; the recommended way of storing data for a Cloud Optimized Geotiff.\n",
    "\n",
    "We can see in the `gdalinfo` output above that our image data is of type `Byte` meaning it is an 8-bit unsigned integer. Sometimes you may want to store data in a GeoTIFF as floating point numbers. Let's do one more GeoTIFF example and use some additional keyword arguments to customize our output."
   ]
  },
  {
   "cell_type": "code",
   "execution_count": null,
   "metadata": {},
   "outputs": [],
   "source": [
    "import numpy as np\n",
    "\n",
    "with ProgressBar():\n",
    "    scn.save_datasets(base_dir='float_images', filename='{name}.float.tif',\n",
    "                      dtype=np.float32, enhance=False)"
   ]
  },
  {
   "cell_type": "code",
   "execution_count": null,
   "metadata": {},
   "outputs": [],
   "source": [
    "!ls"
   ]
  },
  {
   "cell_type": "code",
   "execution_count": null,
   "metadata": {},
   "outputs": [],
   "source": [
    "!gdalinfo float_images/C07.float.tif"
   ]
  },
  {
   "cell_type": "markdown",
   "metadata": {},
   "source": [
    "We've now created a 32-bit float GeoTIFF to use in GIS applications or other software to do more analysis. We used the `base_dir` keyword argument to specify a new directory where we wanted our files saved. We specified the `enhance=False` argument to tell Satpy to not scale observed data values (Kelvin, percentages, etc) to image values (0-255); there will be more on this in later lessons. We also provided a custom filenaming scheme with the `filename` keyword argument.\n",
    "\n",
    "### Exercise\n",
    "\n",
    "**Time: 5 minutes**\n",
    "\n",
    "A key point here is that the filenaming scheme can use any attribute that is in a DataArray's `.attrs` dictionary. To try this, update the filename pattern in the previous `save_datasets` call to add the `standard_name` or `start_time` or any other attribute. What filenames are produced?"
   ]
  },
  {
   "cell_type": "markdown",
   "metadata": {},
   "source": [
    "## Images - PNG, JPEG, etc\n",
    "\n",
    "So far we've created GeoTIFFs using the `'geotiff'` writer, but we can also create PNGs and other basic image formats by using the `'simple_image'` writer which takes advantage of the many formats supported by the PIL package."
   ]
  },
  {
   "cell_type": "code",
   "execution_count": null,
   "metadata": {},
   "outputs": [],
   "source": [
    "with ProgressBar():\n",
    "    scn.save_datasets(writer='simple_image')"
   ]
  },
  {
   "cell_type": "code",
   "execution_count": null,
   "metadata": {},
   "outputs": [],
   "source": [
    "!ls"
   ]
  },
  {
   "cell_type": "markdown",
   "metadata": {},
   "source": [
    "We could view this image like we did the GeoTIFF, with our system's image viewer, or we could view it in the browser. However, by default Satpy has saved the entire image array to the file so viewing a couple of them may be an issue for our browser. In future lessons we'll learn of ways to change the resolution of our data before saving it to disk.\n",
    "\n",
    "Instead of specifying the `writer` explicitly we could have let Satpy determine the best writer to use based on the filename. Using what we learned about `filename` before, let's update the below call to save a PNG image with the `.png` extension."
   ]
  },
  {
   "cell_type": "code",
   "execution_count": null,
   "metadata": {},
   "outputs": [],
   "source": [
    "scn.save_datasets(editme=editme)"
   ]
  },
  {
   "cell_type": "markdown",
   "metadata": {},
   "source": [
    "# CF-compliant NetCDF Files\n",
    "\n",
    "In addition to image formats, we may want to save our data in more common data file formats. A very common format when working with satellite imagery data is the NetCDF format (.nc) with metadata matching the Climate and Forecast (CF) metadata conventions. We'll use the `'cf'` writer for this, the default writer for any file ending in `.nc`.\n",
    "\n",
    "First, let's load a couple extra channels from our Scene."
   ]
  },
  {
   "cell_type": "code",
   "execution_count": null,
   "metadata": {},
   "outputs": [],
   "source": [
    "scn.load(['C08', 'C09'])"
   ]
  },
  {
   "cell_type": "code",
   "execution_count": null,
   "metadata": {},
   "outputs": [],
   "source": [
    "with ProgressBar():\n",
    "    scn.save_datasets(filename='my_abi_data.nc')"
   ]
  },
  {
   "cell_type": "code",
   "execution_count": null,
   "metadata": {},
   "outputs": [],
   "source": [
    "!ls"
   ]
  },
  {
   "cell_type": "code",
   "execution_count": null,
   "metadata": {},
   "outputs": [],
   "source": [
    "!ncdump -h my_abi_data.nc"
   ]
  },
  {
   "cell_type": "markdown",
   "metadata": {},
   "source": [
    "Note how this handled the x/y coordinate variables for us as well as the CF `grid_mapping` variable. By default Satpy also created `longitude` and `latitude` variables for users who are more comfortable with degrees instead of projection meters. There are [a lot of options](https://satpy.readthedocs.io/en/latest/api/satpy.writers.html#module-satpy.writers.cf_writer) we can configure for this writer including to turn of the longitude and latitude variable creation, grouping variables, and more. Exploring these options is out of the scope for this tutorial and is left as an exercise for the reader."
   ]
  },
  {
   "cell_type": "markdown",
   "metadata": {},
   "source": [
    "### Further Research\n",
    "\n",
    " * [Scene.save_dataset][1]\n",
    " * [GeoTIFF creation options][2]\n",
    " * [NetCDF creation options][3]\n",
    "\n",
    "  [1]: https://satpy.readthedocs.io/en/latest/api/satpy.html#satpy.scene.Scene.save_dataset\n",
    "  [2]: https://gdal.org/drivers/raster/gtiff.html#creation-options\n",
    "  [3]: https://satpy.readthedocs.io/en/latest/api/satpy.writers.html#module-satpy.writers.cf_writer"
   ]
  },
  {
   "cell_type": "code",
   "execution_count": null,
   "metadata": {},
   "outputs": [],
   "source": []
  }
 ],
 "metadata": {
  "kernelspec": {
   "display_name": "Python 3",
   "language": "python",
   "name": "python3"
  },
  "language_info": {
   "codemirror_mode": {
    "name": "ipython",
    "version": 3
   },
   "file_extension": ".py",
   "mimetype": "text/x-python",
   "name": "python",
   "nbconvert_exporter": "python",
   "pygments_lexer": "ipython3",
   "version": "3.6.7"
  }
 },
 "nbformat": 4,
 "nbformat_minor": 2
}
