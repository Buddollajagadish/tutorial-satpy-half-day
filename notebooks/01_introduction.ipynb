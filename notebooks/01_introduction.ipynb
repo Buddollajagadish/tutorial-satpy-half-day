{
 "cells": [
  {
   "cell_type": "markdown",
   "metadata": {
    "collapsed": true
   },
   "source": [
    "# 1. Introduction\n",
    "\n",
    "This notebook is the introduction to the half-day tutorial on the Satpy library.\n",
    "\n",
    "Satpy is a python library that can be used to work with various earth-observing satellite instrument data. Satpy is the result of multiple projects, including Pytroll mpop and CSPP Polar2Grid, combining efforts to build a better project. Development of the Satpy library started in late 2015 and has been designed to assist scientists and researchers in working these data. One of the main original goals and use cases was to generate high quality, high resolution imagery as quickly as possible. Over the years following its creation, Satpy has grown to support more use cases while also working on compatibility with other open source python tools. The high level functionality of Satpy includes:\n",
    "\n",
    "- reading data files\n",
    "- compositing data products together (ex. RGB images)\n",
    "- resampling data to new geographic projections\n",
    "- writing data to on-disk formats\n",
    "- using the data with other python-based visualization tools\n",
    "\n",
    "This tutorial is made up of multiple Jupyter notebooks and as a whole will provide an overview of the Satpy library; what it can do and how to use it. Throughout the tutorial we'll use Satpy to read and analyze real satellite instrument data. We'll go over the breadth of features provided by Satpy and leave detailed scientific analysis as an exercise for the reader.\n",
    "\n",
    "**NOTE**: If you are unable to properly set up a local environment to run the notebooks, be aware that these examples can also be run interactively in the cloud using [Pangeo's BinderHub](http://pangeo-data.org) through a JupyterLab interface. See the [README](https://github.com/pytroll/tutorial-satpy-half-day/blob/master/README.rst) file of this repository for more information (repository linked below)."
   ]
  },
  {
   "cell_type": "markdown",
   "metadata": {
    "collapsed": true
   },
   "source": [
    "## Useful links\n",
    "\n",
    "* [Pytroll Home](http://pytroll.github.io)\n",
    "* [Pytroll Slack Team](http://pytroll.slack.com)\n",
    "* [Tutorial Repository](https://github.com/pytroll/tutorial-satpy-half-day)\n",
    "* [Satpy Repository](https://github.com/pytroll/satpy)"
   ]
  },
  {
   "cell_type": "markdown",
   "metadata": {
    "collapsed": true
   },
   "source": [
    "# 2. Setup\n",
    "\n",
    "Before attending an instructor lead version of this tutorial where you will be\n",
    "executing the notebooks on your local machine (not in the cloud) the necessary\n",
    "software should be installed and test data downloaded in to the correct\n",
    "locations. Follow the\n",
    "[INSTALL](https://github.com/pytroll/tutorial-satpy-half-day/blob/master/INSTALL.md)\n",
    "instructions for how to create the proper conda environment. Once this notebook\n",
    "has been started with the proper python environment activated we can run the\n",
    "following cell to verify the installation.\n",
    "\n",
    "You should see ``ok`` next to each listed feature that will be used throughout\n",
    "this tutorial and a return value of ``True``. If not, then your\n",
    "installation may be broken or corrupt. You may be able to use the error\n",
    "messages to determine what is missing or broken. Having ``ok`` for the below\n",
    "features does not guarantee that every part of this tutorial will complete\n",
    "successfully."
   ]
  },
  {
   "cell_type": "code",
   "execution_count": null,
   "metadata": {},
   "outputs": [],
   "source": [
    "from satpy.config import check_satpy\n",
    "check_satpy(readers=['abi_l1b', 'viirs_sdr'],\n",
    "            writers=['geotiff', 'cf', 'simple_image'],\n",
    "            extras=['cartopy', 'geoviews'])"
   ]
  },
  {
   "cell_type": "markdown",
   "metadata": {},
   "source": [
    "## Download test data\n",
    "\n",
    "TODO"
   ]
  },
  {
   "cell_type": "markdown",
   "metadata": {},
   "source": [
    "# 3. What are we working with?\n",
    "\n",
    "We will be working with satellite instrument data. There are many\n",
    "different variations of how the data can be structured, what it\n",
    "physically represents, how it changes over time, and how it can be used in\n",
    "a particular type of analysis. The explanations below act as an overview\n",
    "of some of the differences common in satellite data. We'll go in to a few\n",
    "details as we explore real data later on and completely ignore other\n",
    "details for simplicity.\n",
    "\n",
    "## Earth-observing\n",
    "\n",
    "Satpy operates on data from earth-observing satellite instruments. The data\n",
    "can be used to study changes in the atmosphere, vegetation, oceans,\n",
    "pollution, and many others.\n",
    "\n",
    "**TODO**: Include true color full disk image. Maybe a subset of a small feature\n",
    "          from the demo data.\n",
    "\n",
    "## Geostationary versus Polar-orbiting\n",
    "\n",
    "Satellites can be in a high-altitude geostationary orbit or a lower altitude\n",
    "polar-orbiting orbit. Geostationary satellites typically get us data of the\n",
    "same region faster (~30s in some), but are usually lower resolution and only\n",
    "see part of the Earth. Polar orbiters are usually higher resolution and cover\n",
    "much more of the Earth, but it takes longer to get all of this coverage.\n",
    "\n",
    "<table>\n",
    "    <tr>\n",
    "        <th style=\"text-align:center\">Geostationary</th>\n",
    "        <th style=\"text-align:center\">Polar-orbiting</th>\n",
    "    <tr>\n",
    "        <td>\n",
    "            <video width=\"320\" height=\"240\" controls src=\"../assets/geostationary_orbit.mp4\"></video>\n",
    "        </td>\n",
    "        <td>\n",
    "            <video width=\"320\" height=\"240\" controls src=\"../assets/polar_orbit_with_path.mp4\"></video>\n",
    "        </td>\n",
    "    </tr>\n",
    "</table>\n",
    "\n",
    "<sub>Credit: Clayton Suplinski, SSEC, UW-Madison</sub>\n",
    "\n",
    "## Imagery\n",
    "\n",
    "The instruments data we will be working with is imagery data; data from\n",
    "\"imager\" instruments. In most cases, these arrays of data points can be\n",
    "thought of as a 2D image of pixels.\n",
    "\n",
    "**TODO**: Two images, one of just a print out with integers (0-255?), maybe a numpy array. The second image is that array on a matplotlib plot. There have to be enough data points to make it obvious that the data in the left image is used to make the right image.\n",
    "\n",
    "## Geolocated\n",
    "\n",
    "The data we will be looking at is geolocated. We need to be able to assign each\n",
    "pixel of data to a geographic region. Data footprints that can be somewhat\n",
    "difficult to describe are typically simplified by specifying\n",
    "only the center point and the pixel's radius or cell width. We may know the\n",
    "exact longitude and latitude coordinates of each pixel or we may be given a\n",
    "gridded version of the data where each pixel is spread uniformly across a\n",
    "rectangular area.\n",
    "\n",
    "If you are familiar with projections, we'll get to those later.\n",
    "\n",
    "**TODO**: Image of an instrument footprint/FOV.\n",
    "\n",
    "## Bands\n",
    "\n",
    "Satellite instruments typically have multiple bands or channels that measure\n",
    "different properties of the Earth. These bands observe different\n",
    "wavelengths of the electromagnetic spectrum. Depending on the wavelength\n",
    "of the radiation reflected or emitted by an object we can get a good\n",
    "snapshot of the Earth from space.\n",
    "\n",
    "**TODO**: ABI montage of maybe two or three channels"
   ]
  },
  {
   "cell_type": "code",
   "execution_count": null,
   "metadata": {},
   "outputs": [],
   "source": []
  }
 ],
 "metadata": {
  "kernelspec": {
   "display_name": "Python 3",
   "language": "python",
   "name": "python3"
  },
  "language_info": {
   "codemirror_mode": {
    "name": "ipython",
    "version": 3
   },
   "file_extension": ".py",
   "mimetype": "text/x-python",
   "name": "python",
   "nbconvert_exporter": "python",
   "pygments_lexer": "ipython3",
   "version": "3.6.7"
  }
 },
 "nbformat": 4,
 "nbformat_minor": 1
}
