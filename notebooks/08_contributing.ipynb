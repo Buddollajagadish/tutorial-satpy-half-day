{
 "cells": [
  {
   "cell_type": "markdown",
   "metadata": {},
   "source": [
    "# Contributing to Satpy\n",
    "\n",
    "By completing this tutorial you've gotten an overview of the features that Satpy provides. You've seen examples of:\n",
    "\n",
    "* Loading data\n",
    "* Plotting data\n",
    "* Creating composites\n",
    "* Creating custom composites\n",
    "* Creating MPEG4 videos\n",
    "* Stacking multiple orbits in to one image\n",
    "* Plotting loaded data with Cartopy\n",
    "* Plotting loaded data with GeoViews\n",
    "\n",
    "Although this tutorial has gone over a lot there is still more that Satpy can do and even more that it can't. That's where you come in as a contributor to the Satpy project. Satpy is an open source project and maintained by volunteers. Any help we can get is much appreciated.\n",
    "\n",
    "If you think there are changes or features that could be made to Satpy to make your job easier, let us know. If you use Satpy and find a bug, let us know. Do you have a feature you want to implement or a bug you'd like to fix, let us know.\n",
    "\n",
    "You can file bugs and features requests on [GitHub](https://github.com/pytroll/satpy). The Pytroll group also has a slack team where you can talk to us about your work, get help using Satpy, discuss Satpy design, or just talk about scientific programming. More information on how to contributor can be found in the [contributing guide](https://satpy.readthedocs.io/en/latest/dev_guide/CONTRIBUTING.html)."
   ]
  }
 ],
 "metadata": {
  "kernelspec": {
   "display_name": "Python 3",
   "language": "python",
   "name": "python3"
  },
  "language_info": {
   "codemirror_mode": {
    "name": "ipython",
    "version": 3
   },
   "file_extension": ".py",
   "mimetype": "text/x-python",
   "name": "python",
   "nbconvert_exporter": "python",
   "pygments_lexer": "ipython3",
   "version": "3.6.7"
  }
 },
 "nbformat": 4,
 "nbformat_minor": 2
}
